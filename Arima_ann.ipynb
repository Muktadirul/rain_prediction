{
 "cells": [
  {
   "cell_type": "code",
   "execution_count": 1,
   "metadata": {},
   "outputs": [],
   "source": [
    "import pandas as pd\n",
    "import numpy as np\n",
    "import matplotlib.pyplot as plt\n",
    "%matplotlib inline\n",
    "from statsmodels.tsa.arima_model import ARIMA\n",
    "from sklearn.metrics import mean_squared_error"
   ]
  },
  {
   "cell_type": "code",
   "execution_count": 2,
   "metadata": {},
   "outputs": [],
   "source": [
    "data = pd.read_csv(\"cleaned_Data.csv\")"
   ]
  },
  {
   "cell_type": "code",
   "execution_count": 3,
   "metadata": {},
   "outputs": [],
   "source": [
    "data.set_index(\"date\" , inplace = True)\n",
    "data.index = pd.DatetimeIndex(data.index)"
   ]
  },
  {
   "cell_type": "code",
   "execution_count": 4,
   "metadata": {},
   "outputs": [
    {
     "data": {
      "text/html": [
       "<div>\n",
       "<style scoped>\n",
       "    .dataframe tbody tr th:only-of-type {\n",
       "        vertical-align: middle;\n",
       "    }\n",
       "\n",
       "    .dataframe tbody tr th {\n",
       "        vertical-align: top;\n",
       "    }\n",
       "\n",
       "    .dataframe thead th {\n",
       "        text-align: right;\n",
       "    }\n",
       "</style>\n",
       "<table border=\"1\" class=\"dataframe\">\n",
       "  <thead>\n",
       "    <tr style=\"text-align: right;\">\n",
       "      <th></th>\n",
       "      <th>temp</th>\n",
       "      <th>dew_pt</th>\n",
       "      <th>hum</th>\n",
       "      <th>wind_spd</th>\n",
       "      <th>vis</th>\n",
       "      <th>pressure</th>\n",
       "      <th>rain</th>\n",
       "    </tr>\n",
       "    <tr>\n",
       "      <th>date</th>\n",
       "      <th></th>\n",
       "      <th></th>\n",
       "      <th></th>\n",
       "      <th></th>\n",
       "      <th></th>\n",
       "      <th></th>\n",
       "      <th></th>\n",
       "    </tr>\n",
       "  </thead>\n",
       "  <tbody>\n",
       "    <tr>\n",
       "      <th>2018-01-01 02:30:00</th>\n",
       "      <td>69</td>\n",
       "      <td>64</td>\n",
       "      <td>80</td>\n",
       "      <td>2.3</td>\n",
       "      <td>1</td>\n",
       "      <td>29.87</td>\n",
       "      <td>0</td>\n",
       "    </tr>\n",
       "    <tr>\n",
       "      <th>2018-01-01 05:30:00</th>\n",
       "      <td>68</td>\n",
       "      <td>65</td>\n",
       "      <td>87</td>\n",
       "      <td>4.6</td>\n",
       "      <td>1</td>\n",
       "      <td>29.84</td>\n",
       "      <td>0</td>\n",
       "    </tr>\n",
       "    <tr>\n",
       "      <th>2018-01-01 08:30:00</th>\n",
       "      <td>71</td>\n",
       "      <td>64</td>\n",
       "      <td>71</td>\n",
       "      <td>6.9</td>\n",
       "      <td>1</td>\n",
       "      <td>29.92</td>\n",
       "      <td>0</td>\n",
       "    </tr>\n",
       "    <tr>\n",
       "      <th>2018-01-01 11:30:00</th>\n",
       "      <td>79</td>\n",
       "      <td>69</td>\n",
       "      <td>64</td>\n",
       "      <td>4.6</td>\n",
       "      <td>2</td>\n",
       "      <td>29.89</td>\n",
       "      <td>0</td>\n",
       "    </tr>\n",
       "    <tr>\n",
       "      <th>2018-01-01 14:30:00</th>\n",
       "      <td>79</td>\n",
       "      <td>64</td>\n",
       "      <td>51</td>\n",
       "      <td>6.9</td>\n",
       "      <td>2</td>\n",
       "      <td>29.82</td>\n",
       "      <td>0</td>\n",
       "    </tr>\n",
       "  </tbody>\n",
       "</table>\n",
       "</div>"
      ],
      "text/plain": [
       "                     temp  dew_pt  hum  wind_spd  vis  pressure  rain\n",
       "date                                                                 \n",
       "2018-01-01 02:30:00    69      64   80       2.3    1     29.87     0\n",
       "2018-01-01 05:30:00    68      65   87       4.6    1     29.84     0\n",
       "2018-01-01 08:30:00    71      64   71       6.9    1     29.92     0\n",
       "2018-01-01 11:30:00    79      69   64       4.6    2     29.89     0\n",
       "2018-01-01 14:30:00    79      64   51       6.9    2     29.82     0"
      ]
     },
     "execution_count": 4,
     "metadata": {},
     "output_type": "execute_result"
    }
   ],
   "source": [
    "data.head()"
   ]
  },
  {
   "cell_type": "code",
   "execution_count": 5,
   "metadata": {},
   "outputs": [],
   "source": [
    "aggregate_data = data.pivot_table(index = data.index.date)"
   ]
  },
  {
   "cell_type": "code",
   "execution_count": 6,
   "metadata": {},
   "outputs": [
    {
     "data": {
      "text/html": [
       "<div>\n",
       "<style scoped>\n",
       "    .dataframe tbody tr th:only-of-type {\n",
       "        vertical-align: middle;\n",
       "    }\n",
       "\n",
       "    .dataframe tbody tr th {\n",
       "        vertical-align: top;\n",
       "    }\n",
       "\n",
       "    .dataframe thead th {\n",
       "        text-align: right;\n",
       "    }\n",
       "</style>\n",
       "<table border=\"1\" class=\"dataframe\">\n",
       "  <thead>\n",
       "    <tr style=\"text-align: right;\">\n",
       "      <th></th>\n",
       "      <th>dew_pt</th>\n",
       "      <th>hum</th>\n",
       "      <th>pressure</th>\n",
       "      <th>rain</th>\n",
       "      <th>temp</th>\n",
       "      <th>vis</th>\n",
       "      <th>wind_spd</th>\n",
       "    </tr>\n",
       "  </thead>\n",
       "  <tbody>\n",
       "    <tr>\n",
       "      <th>2018-01-01</th>\n",
       "      <td>65.250000</td>\n",
       "      <td>69.250000</td>\n",
       "      <td>29.861250</td>\n",
       "      <td>0.0</td>\n",
       "      <td>73.375000</td>\n",
       "      <td>1.625000</td>\n",
       "      <td>5.175000</td>\n",
       "    </tr>\n",
       "    <tr>\n",
       "      <th>2018-01-02</th>\n",
       "      <td>62.500000</td>\n",
       "      <td>68.125000</td>\n",
       "      <td>29.867500</td>\n",
       "      <td>0.0</td>\n",
       "      <td>71.625000</td>\n",
       "      <td>1.625000</td>\n",
       "      <td>4.187500</td>\n",
       "    </tr>\n",
       "    <tr>\n",
       "      <th>2018-01-03</th>\n",
       "      <td>60.750000</td>\n",
       "      <td>68.250000</td>\n",
       "      <td>29.903750</td>\n",
       "      <td>0.0</td>\n",
       "      <td>69.750000</td>\n",
       "      <td>1.625000</td>\n",
       "      <td>3.600000</td>\n",
       "    </tr>\n",
       "    <tr>\n",
       "      <th>2018-01-04</th>\n",
       "      <td>65.200000</td>\n",
       "      <td>69.400000</td>\n",
       "      <td>29.936000</td>\n",
       "      <td>0.0</td>\n",
       "      <td>73.400000</td>\n",
       "      <td>2.000000</td>\n",
       "      <td>3.460000</td>\n",
       "    </tr>\n",
       "    <tr>\n",
       "      <th>2018-01-05</th>\n",
       "      <td>62.428571</td>\n",
       "      <td>73.285714</td>\n",
       "      <td>29.912857</td>\n",
       "      <td>0.0</td>\n",
       "      <td>69.714286</td>\n",
       "      <td>1.714286</td>\n",
       "      <td>2.957143</td>\n",
       "    </tr>\n",
       "  </tbody>\n",
       "</table>\n",
       "</div>"
      ],
      "text/plain": [
       "               dew_pt        hum   pressure  rain       temp       vis  \\\n",
       "2018-01-01  65.250000  69.250000  29.861250   0.0  73.375000  1.625000   \n",
       "2018-01-02  62.500000  68.125000  29.867500   0.0  71.625000  1.625000   \n",
       "2018-01-03  60.750000  68.250000  29.903750   0.0  69.750000  1.625000   \n",
       "2018-01-04  65.200000  69.400000  29.936000   0.0  73.400000  2.000000   \n",
       "2018-01-05  62.428571  73.285714  29.912857   0.0  69.714286  1.714286   \n",
       "\n",
       "            wind_spd  \n",
       "2018-01-01  5.175000  \n",
       "2018-01-02  4.187500  \n",
       "2018-01-03  3.600000  \n",
       "2018-01-04  3.460000  \n",
       "2018-01-05  2.957143  "
      ]
     },
     "execution_count": 6,
     "metadata": {},
     "output_type": "execute_result"
    }
   ],
   "source": [
    "aggregate_data.head()"
   ]
  },
  {
   "cell_type": "code",
   "execution_count": 7,
   "metadata": {},
   "outputs": [],
   "source": [
    "aggregate_data.drop([\"rain\"] , axis=1 , inplace=True)"
   ]
  },
  {
   "cell_type": "code",
   "execution_count": 8,
   "metadata": {},
   "outputs": [
    {
     "data": {
      "text/plain": [
       "[73.375,\n",
       " 71.625,\n",
       " 69.75,\n",
       " 73.4,\n",
       " 69.71428571428571,\n",
       " 69.0,\n",
       " 68.75,\n",
       " 69.0,\n",
       " 67.125,\n",
       " 68.5,\n",
       " 70.0,\n",
       " 72.28571428571429,\n",
       " 72.75,\n",
       " 72.57142857142857,\n",
       " 71.25,\n",
       " 71.125,\n",
       " 71.5,\n",
       " 69.875,\n",
       " 69.75,\n",
       " 69.875,\n",
       " 70.5,\n",
       " 71.25,\n",
       " 71.625,\n",
       " 71.875,\n",
       " 72.75,\n",
       " 72.375,\n",
       " 73.0,\n",
       " 73.71428571428571,\n",
       " 71.375,\n",
       " 72.375,\n",
       " 73.25,\n",
       " 74.375,\n",
       " 74.25,\n",
       " 73.125,\n",
       " 72.875,\n",
       " 73.875,\n",
       " 73.875,\n",
       " 75.75,\n",
       " 76.875,\n",
       " 76.0,\n",
       " 77.85714285714286,\n",
       " 76.75,\n",
       " 76.75,\n",
       " 74.625,\n",
       " 76.25,\n",
       " 76.875,\n",
       " 76.75,\n",
       " 75.125,\n",
       " 76.125,\n",
       " 76.0,\n",
       " 75.875,\n",
       " 76.5,\n",
       " 77.0,\n",
       " 77.0,\n",
       " 77.375,\n",
       " 78.25,\n",
       " 79.375,\n",
       " 79.0,\n",
       " 79.25,\n",
       " 79.5,\n",
       " 79.57142857142857,\n",
       " 80.25,\n",
       " 80.875,\n",
       " 80.375,\n",
       " 80.375,\n",
       " 81.0,\n",
       " 81.75,\n",
       " 81.0,\n",
       " 82.125,\n",
       " 81.25,\n",
       " 80.875,\n",
       " 82.5,\n",
       " 82.0,\n",
       " 80.125,\n",
       " 82.5,\n",
       " 79.14285714285714,\n",
       " 81.0,\n",
       " 81.25,\n",
       " 81.625,\n",
       " 81.375,\n",
       " 81.5,\n",
       " 82.5,\n",
       " 82.5,\n",
       " 82.25,\n",
       " 82.5,\n",
       " 81.75,\n",
       " 80.875,\n",
       " 81.75,\n",
       " 82.0,\n",
       " 81.5,\n",
       " 80.625,\n",
       " 81.83333333333333,\n",
       " 82.125,\n",
       " 81.375,\n",
       " 82.14285714285714,\n",
       " 82.75,\n",
       " 81.25,\n",
       " 81.125,\n",
       " 82.875,\n",
       " 82.125,\n",
       " 82.625,\n",
       " 81.875,\n",
       " 82.25,\n",
       " 82.71428571428571,\n",
       " 84.75,\n",
       " 85.25,\n",
       " 85.0,\n",
       " 83.28571428571429,\n",
       " 84.375,\n",
       " 84.25,\n",
       " 83.625,\n",
       " 83.125,\n",
       " 82.42857142857143,\n",
       " 80.71428571428571,\n",
       " 82.0,\n",
       " 83.57142857142857,\n",
       " 82.83333333333333,\n",
       " 83.0,\n",
       " 82.125,\n",
       " 82.625,\n",
       " 78.25,\n",
       " 82.0,\n",
       " 81.0,\n",
       " 82.875,\n",
       " 83.5,\n",
       " 83.75,\n",
       " 83.25,\n",
       " 82.57142857142857,\n",
       " 81.25,\n",
       " 83.0,\n",
       " 81.875,\n",
       " 82.75,\n",
       " 82.75,\n",
       " 83.375,\n",
       " 84.5,\n",
       " 85.0,\n",
       " 84.75,\n",
       " 85.125,\n",
       " 84.75,\n",
       " 85.125,\n",
       " 84.875,\n",
       " 85.375,\n",
       " 84.0,\n",
       " 85.625,\n",
       " 85.625,\n",
       " 85.625,\n",
       " 86.625,\n",
       " 85.75,\n",
       " 85.375,\n",
       " 85.875,\n",
       " 85.875,\n",
       " 86.25,\n",
       " 86.0,\n",
       " 85.875,\n",
       " 87.0,\n",
       " 88.5,\n",
       " 87.5,\n",
       " 87.0,\n",
       " 84.5,\n",
       " 84.5,\n",
       " 86.25,\n",
       " 86.625,\n",
       " 86.0,\n",
       " 85.57142857142857,\n",
       " 85.625,\n",
       " 85.875,\n",
       " 86.0,\n",
       " 86.75,\n",
       " 87.75,\n",
       " 87.5,\n",
       " 86.625,\n",
       " 84.125,\n",
       " 83.75,\n",
       " 84.0,\n",
       " 85.75,\n",
       " 84.75,\n",
       " 84.375,\n",
       " 79.5,\n",
       " 80.14285714285714,\n",
       " 81.0,\n",
       " 83.4,\n",
       " 84.0,\n",
       " 84.0,\n",
       " 84.625,\n",
       " 86.75,\n",
       " 84.875,\n",
       " 81.875,\n",
       " 83.25,\n",
       " 84.625,\n",
       " 83.875,\n",
       " 83.75,\n",
       " 84.0,\n",
       " 83.625,\n",
       " 81.0,\n",
       " 80.25,\n",
       " 80.75,\n",
       " 83.625,\n",
       " 85.125,\n",
       " 85.875,\n",
       " 79.5,\n",
       " 77.625,\n",
       " 81.85714285714286,\n",
       " 84.5,\n",
       " 84.25,\n",
       " 84.875,\n",
       " 85.25,\n",
       " 85.875,\n",
       " 86.25,\n",
       " 86.125,\n",
       " 84.0,\n",
       " 83.25,\n",
       " 83.625,\n",
       " 82.125,\n",
       " 81.75,\n",
       " 86.375,\n",
       " 87.28571428571429,\n",
       " 85.0,\n",
       " 80.0,\n",
       " 83.85714285714286,\n",
       " 84.0,\n",
       " 84.875,\n",
       " 86.75,\n",
       " 84.125,\n",
       " 82.25,\n",
       " 81.625,\n",
       " 82.625,\n",
       " 84.0,\n",
       " 84.625,\n",
       " 84.75,\n",
       " 83.5,\n",
       " 82.5,\n",
       " 85.625,\n",
       " 87.125,\n",
       " 86.75,\n",
       " 85.625,\n",
       " 82.875,\n",
       " 77.75,\n",
       " 81.0,\n",
       " 83.5,\n",
       " 82.75,\n",
       " 83.75,\n",
       " 83.375,\n",
       " 82.125,\n",
       " 83.75,\n",
       " 84.75,\n",
       " 84.875,\n",
       " 83.125,\n",
       " 79.25,\n",
       " 82.71428571428571,\n",
       " 84.25,\n",
       " 85.875,\n",
       " 85.25,\n",
       " 84.25,\n",
       " 84.875,\n",
       " 86.125,\n",
       " 86.125,\n",
       " 87.0,\n",
       " 85.42857142857143,\n",
       " 84.375,\n",
       " 85.5,\n",
       " 85.625,\n",
       " 79.25,\n",
       " 81.875,\n",
       " 84.125,\n",
       " 84.375,\n",
       " 84.75,\n",
       " 84.25,\n",
       " 84.5,\n",
       " 84.75,\n",
       " 85.375,\n",
       " 85.875,\n",
       " 85.75,\n",
       " 87.28571428571429,\n",
       " 86.0,\n",
       " 87.125,\n",
       " 86.0,\n",
       " 85.375,\n",
       " 85.375,\n",
       " 87.85714285714286,\n",
       " 86.625,\n",
       " 83.875,\n",
       " 76.625,\n",
       " 81.125,\n",
       " 82.5,\n",
       " 82.75,\n",
       " 83.5,\n",
       " 83.375,\n",
       " 83.125,\n",
       " 81.75,\n",
       " 81.5,\n",
       " 83.375,\n",
       " 83.625,\n",
       " 84.125,\n",
       " 83.25,\n",
       " 82.875,\n",
       " 82.875,\n",
       " 81.75,\n",
       " 79.25,\n",
       " 77.75,\n",
       " 75.125,\n",
       " 78.75,\n",
       " 78.25,\n",
       " 79.125,\n",
       " 81.0]"
      ]
     },
     "execution_count": 8,
     "metadata": {},
     "output_type": "execute_result"
    }
   ],
   "source": [
    "aggregate_data['temp'].values.tolist()"
   ]
  },
  {
   "cell_type": "code",
   "execution_count": 9,
   "metadata": {},
   "outputs": [],
   "source": [
    "column_list = aggregate_data[\"temp\"].values.tolist()"
   ]
  },
  {
   "cell_type": "code",
   "execution_count": 10,
   "metadata": {},
   "outputs": [],
   "source": [
    "training_len = int(len(column_list)*0.7)"
   ]
  },
  {
   "cell_type": "code",
   "execution_count": 11,
   "metadata": {},
   "outputs": [],
   "source": [
    "train,test = column_list[:training_len] , column_list[training_len:]"
   ]
  },
  {
   "cell_type": "code",
   "execution_count": 12,
   "metadata": {},
   "outputs": [],
   "source": [
    "training_data = train[:]\n",
    "error_list = []\n",
    "prediction_list = []"
   ]
  },
  {
   "cell_type": "code",
   "execution_count": 13,
   "metadata": {},
   "outputs": [
    {
     "name": "stderr",
     "output_type": "stream",
     "text": [
      "C:\\ProgramData\\Anaconda3\\lib\\site-packages\\scipy\\signal\\signaltools.py:1341: FutureWarning: Using a non-tuple sequence for multidimensional indexing is deprecated; use `arr[tuple(seq)]` instead of `arr[seq]`. In the future this will be interpreted as an array index, `arr[np.array(seq)]`, which will result either in an error or a different result.\n",
      "  out_full[ind] += zi\n",
      "C:\\ProgramData\\Anaconda3\\lib\\site-packages\\scipy\\signal\\signaltools.py:1344: FutureWarning: Using a non-tuple sequence for multidimensional indexing is deprecated; use `arr[tuple(seq)]` instead of `arr[seq]`. In the future this will be interpreted as an array index, `arr[np.array(seq)]`, which will result either in an error or a different result.\n",
      "  out = out_full[ind]\n",
      "C:\\ProgramData\\Anaconda3\\lib\\site-packages\\scipy\\signal\\signaltools.py:1350: FutureWarning: Using a non-tuple sequence for multidimensional indexing is deprecated; use `arr[tuple(seq)]` instead of `arr[seq]`. In the future this will be interpreted as an array index, `arr[np.array(seq)]`, which will result either in an error or a different result.\n",
      "  zf = out_full[ind]\n"
     ]
    },
    {
     "name": "stdout",
     "output_type": "stream",
     "text": [
      "predicted=84.238777, expected=82.125000 error=2.113777\n",
      "predicted=82.643313, expected=81.750000 error=0.893313\n",
      "predicted=82.338131, expected=86.375000 error=4.036869\n",
      "predicted=85.951965, expected=87.285714 error=1.333749\n",
      "predicted=86.044725, expected=85.000000 error=1.044725\n",
      "predicted=84.132735, expected=80.000000 error=4.132735\n",
      "predicted=80.714099, expected=83.857143 error=3.143044\n",
      "predicted=84.295188, expected=84.000000 error=0.295188\n",
      "predicted=84.469969, expected=84.875000 error=0.405031\n",
      "predicted=84.078146, expected=86.750000 error=2.671854\n",
      "predicted=86.634817, expected=84.125000 error=2.509817\n",
      "predicted=82.922367, expected=82.250000 error=0.672367\n",
      "predicted=82.798271, expected=81.625000 error=1.173271\n",
      "predicted=82.693507, expected=82.625000 error=0.068507\n",
      "predicted=83.126377, expected=84.000000 error=0.873623\n",
      "predicted=84.331887, expected=84.625000 error=0.293113\n",
      "predicted=84.060778, expected=84.750000 error=0.689222\n",
      "predicted=83.978804, expected=83.500000 error=0.478804\n",
      "predicted=83.071315, expected=82.500000 error=0.571315\n",
      "predicted=82.652171, expected=85.625000 error=2.972829\n",
      "predicted=85.521370, expected=87.125000 error=1.603630\n",
      "predicted=86.291208, expected=86.750000 error=0.458792\n",
      "predicted=85.644657, expected=85.625000 error=0.019657\n",
      "predicted=85.144003, expected=82.875000 error=2.269003\n",
      "predicted=83.005111, expected=77.750000 error=5.255111\n",
      "predicted=79.621491, expected=81.000000 error=1.378509\n",
      "predicted=83.135657, expected=83.500000 error=0.364343\n",
      "predicted=84.319526, expected=82.750000 error=1.569526\n",
      "predicted=82.250065, expected=83.750000 error=1.499935\n",
      "predicted=83.359883, expected=83.375000 error=0.015117\n",
      "predicted=81.918460, expected=82.125000 error=0.206540\n",
      "predicted=81.898046, expected=83.750000 error=1.851954\n",
      "predicted=84.047773, expected=84.750000 error=0.702227\n",
      "predicted=84.172129, expected=84.875000 error=0.702871\n",
      "predicted=84.334743, expected=83.125000 error=1.209743\n",
      "predicted=83.010948, expected=79.250000 error=3.760948\n",
      "predicted=79.819946, expected=82.714286 error=2.894340\n",
      "predicted=83.645965, expected=84.250000 error=0.604035\n",
      "predicted=84.320216, expected=85.875000 error=1.554784\n",
      "predicted=84.870550, expected=85.250000 error=0.379450\n",
      "predicted=84.302732, expected=84.250000 error=0.052732\n",
      "predicted=82.887002, expected=84.875000 error=1.987998\n",
      "predicted=84.838409, expected=86.125000 error=1.286591\n",
      "predicted=85.856771, expected=86.125000 error=0.268229\n",
      "predicted=85.829959, expected=87.000000 error=1.170041\n",
      "predicted=86.382758, expected=85.428571 error=0.954187\n",
      "predicted=84.999798, expected=84.375000 error=0.624798\n",
      "predicted=84.543973, expected=85.500000 error=0.956027\n",
      "predicted=85.966598, expected=85.625000 error=0.341598\n",
      "predicted=85.613434, expected=79.250000 error=6.363434\n",
      "predicted=80.478672, expected=81.875000 error=1.396328\n",
      "predicted=83.186248, expected=84.125000 error=0.938752\n",
      "predicted=84.352815, expected=84.375000 error=0.022185\n",
      "predicted=83.760842, expected=84.750000 error=0.989158\n",
      "predicted=84.575170, expected=84.250000 error=0.325170\n",
      "predicted=82.773923, expected=84.500000 error=1.726077\n",
      "predicted=84.153294, expected=84.750000 error=0.596706\n",
      "predicted=84.723725, expected=85.375000 error=0.651275\n",
      "predicted=85.046738, expected=85.875000 error=0.828262\n",
      "predicted=85.480976, expected=85.750000 error=0.269024\n",
      "predicted=85.229779, expected=87.285714 error=2.055935\n",
      "predicted=86.662396, expected=86.000000 error=0.662396\n",
      "predicted=85.541925, expected=87.125000 error=1.583075\n",
      "predicted=86.744188, expected=86.000000 error=0.744188\n",
      "predicted=85.973605, expected=85.375000 error=0.598605\n",
      "predicted=85.389804, expected=85.375000 error=0.014804\n",
      "predicted=85.948006, expected=87.857143 error=1.909137\n",
      "predicted=87.349538, expected=86.625000 error=0.724538\n",
      "predicted=86.352903, expected=83.875000 error=2.477903\n",
      "predicted=84.046688, expected=76.625000 error=7.421688\n",
      "predicted=78.618819, expected=81.125000 error=2.506181\n",
      "predicted=83.189099, expected=82.500000 error=0.689099\n",
      "predicted=83.846784, expected=82.750000 error=1.096784\n",
      "predicted=82.116597, expected=83.500000 error=1.383403\n",
      "predicted=83.110084, expected=83.375000 error=0.264916\n",
      "predicted=81.585976, expected=83.125000 error=1.539024\n",
      "predicted=82.913256, expected=81.750000 error=1.163256\n",
      "predicted=81.998969, expected=81.500000 error=0.498969\n",
      "predicted=81.927826, expected=83.375000 error=1.447174\n",
      "predicted=83.536777, expected=83.625000 error=0.088223\n",
      "predicted=83.230794, expected=84.125000 error=0.894206\n",
      "predicted=83.539695, expected=83.250000 error=0.289695\n",
      "predicted=82.817587, expected=82.875000 error=0.057413\n",
      "predicted=82.663706, expected=82.875000 error=0.211294\n",
      "predicted=83.168607, expected=81.750000 error=1.418607\n",
      "predicted=82.108650, expected=79.250000 error=2.858650\n",
      "predicted=80.284202, expected=77.750000 error=2.534202\n",
      "predicted=79.156433, expected=75.125000 error=4.031433\n",
      "predicted=76.865012, expected=78.750000 error=1.884988\n",
      "predicted=79.853656, expected=78.250000 error=1.603656\n",
      "predicted=78.576001, expected=79.125000 error=0.548999\n",
      "predicted=78.495385, expected=81.000000 error=2.504615\n"
     ]
    }
   ],
   "source": [
    "for i in test:\n",
    "    model = ARIMA(training_data , order=(7,0,0))\n",
    "    model_fit = model.fit(disp=0)\n",
    "    predicted_value = model_fit.forecast()\n",
    "    predicted_value = predicted_value[0]\n",
    "    error = abs(predicted_value-i)\n",
    "    prediction_list.append(predicted_value)\n",
    "    error_list.append(error)\n",
    "    training_data.append(i)\n",
    "    print('predicted=%f, expected=%f error=%f' % (predicted_value , i ,error))\n",
    "    "
   ]
  },
  {
   "cell_type": "code",
   "execution_count": 14,
   "metadata": {},
   "outputs": [
    {
     "data": {
      "text/plain": [
       "[<matplotlib.lines.Line2D at 0x25c1a7ad940>]"
      ]
     },
     "execution_count": 14,
     "metadata": {},
     "output_type": "execute_result"
    },
    {
     "data": {
      "image/png": "[encoded data removed]",
      "text/plain": [
       "<Figure size 432x288 with 1 Axes>"
      ]
     },
     "metadata": {
      "needs_background": "light"
     },
     "output_type": "display_data"
    }
   ],
   "source": [
    "plt.plot(prediction_list,color='r')\n",
    "plt.plot(test,color='g')\n"
   ]
  },
  {
   "cell_type": "code",
   "execution_count": 15,
   "metadata": {},
   "outputs": [],
   "source": [
    "error_list = np.array(error_list)"
   ]
  },
  {
   "cell_type": "code",
   "execution_count": 16,
   "metadata": {},
   "outputs": [
    {
     "data": {
      "text/plain": [
       "3.7563689999117145"
      ]
     },
     "execution_count": 16,
     "metadata": {},
     "output_type": "execute_result"
    }
   ],
   "source": [
    "mean_squared_error(test ,prediction_list)"
   ]
  },
  {
   "cell_type": "code",
   "execution_count": 17,
   "metadata": {},
   "outputs": [
    {
     "name": "stderr",
     "output_type": "stream",
     "text": [
      "C:\\ProgramData\\Anaconda3\\lib\\site-packages\\scipy\\signal\\signaltools.py:1341: FutureWarning: Using a non-tuple sequence for multidimensional indexing is deprecated; use `arr[tuple(seq)]` instead of `arr[seq]`. In the future this will be interpreted as an array index, `arr[np.array(seq)]`, which will result either in an error or a different result.\n",
      "  out_full[ind] += zi\n",
      "C:\\ProgramData\\Anaconda3\\lib\\site-packages\\scipy\\signal\\signaltools.py:1344: FutureWarning: Using a non-tuple sequence for multidimensional indexing is deprecated; use `arr[tuple(seq)]` instead of `arr[seq]`. In the future this will be interpreted as an array index, `arr[np.array(seq)]`, which will result either in an error or a different result.\n",
      "  out = out_full[ind]\n",
      "C:\\ProgramData\\Anaconda3\\lib\\site-packages\\scipy\\signal\\signaltools.py:1350: FutureWarning: Using a non-tuple sequence for multidimensional indexing is deprecated; use `arr[tuple(seq)]` instead of `arr[seq]`. In the future this will be interpreted as an array index, `arr[np.array(seq)]`, which will result either in an error or a different result.\n",
      "  zf = out_full[ind]\n"
     ]
    }
   ],
   "source": [
    "model = ARIMA(train,order=(7,0,0))\n",
    "model_fit_train = model.fit(disp=0)\n",
    "training_error = model_fit_train.resid\n",
    "\n"
   ]
  },
  {
   "cell_type": "code",
   "execution_count": 18,
   "metadata": {},
   "outputs": [
    {
     "data": {
      "text/plain": [
       "array([-6.00152139, -1.92871942, -2.25285752,  2.97603882, -3.98779573,\n",
       "       -1.43057506, -0.73565574, -1.03300871, -1.86707545,  0.05393363,\n",
       "        1.30566709,  2.21246566,  1.37378555,  0.53392466, -0.2924325 ,\n",
       "       -0.05239185,  0.19403685, -2.13341725, -0.647965  , -0.48970215,\n",
       "        0.11244672,  0.66058329,  0.28411495,  0.61844949,  1.17347773,\n",
       "       -0.0157262 ,  0.82979505,  0.92508688, -2.17906678,  0.90128525,\n",
       "        0.57294313,  0.92953735,  0.36066365, -1.04497407,  0.09282788,\n",
       "        0.74551315, -0.16020965,  1.78105651,  1.49017312, -0.20463986,\n",
       "        2.58870455, -0.59963316,  0.3079057 , -1.89071822,  0.83415203,\n",
       "        0.63354104, -0.54987394, -1.20133051,  0.60802486,  0.01464812,\n",
       "       -0.42689204,  0.62471817,  0.34229539,  0.38321051,  0.54185887,\n",
       "        1.08498837,  1.48171105,  0.15763089,  0.67215592,  0.64393021,\n",
       "        0.26622849,  0.91220314,  0.74202529, -0.12422708,  0.28367843,\n",
       "        0.75185448,  0.88955103, -0.42902184,  1.24856977, -0.52420013,\n",
       "       -0.30632059,  1.72265472, -0.56628079, -1.52627988,  2.1810498 ,\n",
       "       -3.33896983,  1.50640595,  0.20444433, -0.14827123,  0.6167797 ,\n",
       "       -0.22826473,  1.58005143,  0.1432272 ,  0.0741837 ,  0.47706418,\n",
       "       -0.607647  , -0.83977626,  0.57702165,  0.01623379, -0.47488538,\n",
       "       -0.82712159,  1.00986494,  0.40238737, -0.68334152,  0.91001372,\n",
       "        0.68255989, -1.13324391, -0.08843323,  1.52144257, -0.63769041,\n",
       "        0.69675181, -0.56629122,  0.38043157,  0.75675544,  1.87077502,\n",
       "        1.19266082,  0.38721371, -0.86997632,  1.14025438,  0.00903587,\n",
       "       -0.86305216, -0.46873447, -1.06238403, -1.82690284,  0.59244984,\n",
       "        1.13429621, -0.69327529,  0.58131272, -0.6442451 ,  0.62801815,\n",
       "       -4.27683386,  2.66487813, -1.14413546,  1.23914541,  1.602003  ,\n",
       "        0.15516404,  0.9861649 , -0.68786053, -1.04858635,  1.27468727,\n",
       "       -1.28410244,  0.596089  ,  0.25866451,  0.52669902,  1.78104531,\n",
       "        0.7097136 ,  0.53071251,  0.83249906,  0.03699257,  0.57642004,\n",
       "       -0.08496867,  0.47966326, -1.11222713,  1.44802357,  0.26328096,\n",
       "        0.04863205,  1.52319286, -0.7070552 ,  0.10557528,  0.5191555 ,\n",
       "       -0.06770263,  0.55904254, -0.16196744,  0.03898767,  1.34166535,\n",
       "        1.70957942, -0.3587236 ,  0.01966125, -2.20011649, -0.45192549,\n",
       "        1.22407835, -0.18547866, -0.28418879, -0.22420077,  0.30363959,\n",
       "        0.37521453,  0.07023593,  0.78989321,  1.30552102,  0.29363513,\n",
       "       -0.32812901, -2.26112068, -0.81586641, -0.45293734,  0.92684459,\n",
       "       -0.96590513, -0.37427626, -4.50710685, -0.36276701, -0.02529881,\n",
       "        1.09025661,  1.06054458,  0.270041  ,  1.91202162,  2.7544127 ,\n",
       "       -0.90160583, -2.64011539,  1.08486493,  0.74576532, -0.82120232,\n",
       "       -0.13312043,  0.26010978, -0.02639039, -2.53133735, -1.38886937,\n",
       "       -0.25853874,  2.10479478,  1.68774647,  1.42981977, -4.95979056,\n",
       "       -2.05497244,  3.20882281,  1.3610739 ,  0.23604771,  1.25944111,\n",
       "        1.62205792,  1.78566759,  0.98585062,  0.14964535, -1.65673407,\n",
       "       -0.90194033, -0.0980596 ])"
      ]
     },
     "execution_count": 18,
     "metadata": {},
     "output_type": "execute_result"
    }
   ],
   "source": [
    "training_error"
   ]
  },
  {
   "cell_type": "code",
   "execution_count": 19,
   "metadata": {},
   "outputs": [],
   "source": [
    "train_x = []\n",
    "train_y = []\n",
    "for i in range(len(training_error)-7):\n",
    "    train_x.append(training_error[i:i+7])\n",
    "    train_y.append(training_error[i+7])"
   ]
  },
  {
   "cell_type": "code",
   "execution_count": 20,
   "metadata": {},
   "outputs": [
    {
     "data": {
      "text/plain": [
       "-1.0330087052133923"
      ]
     },
     "execution_count": 20,
     "metadata": {},
     "output_type": "execute_result"
    }
   ],
   "source": [
    "train_y[0]"
   ]
  },
  {
   "cell_type": "code",
   "execution_count": 21,
   "metadata": {},
   "outputs": [
    {
     "data": {
      "text/plain": [
       "array([-6.00152139, -1.92871942, -2.25285752,  2.97603882, -3.98779573,\n",
       "       -1.43057506, -0.73565574])"
      ]
     },
     "execution_count": 21,
     "metadata": {},
     "output_type": "execute_result"
    }
   ],
   "source": [
    "train_x[0]"
   ]
  },
  {
   "cell_type": "code",
   "execution_count": 22,
   "metadata": {},
   "outputs": [],
   "source": [
    "test_x = []\n",
    "test_y = []"
   ]
  },
  {
   "cell_type": "code",
   "execution_count": 23,
   "metadata": {},
   "outputs": [],
   "source": [
    "for i in range(len(error_list)-7):\n",
    "    test_x.append(error_list[i:i+7])\n",
    "    test_y.append(error_list[i+7])"
   ]
  },
  {
   "cell_type": "code",
   "execution_count": 24,
   "metadata": {},
   "outputs": [],
   "source": [
    "new_train_x = []\n",
    "new_train_y = []"
   ]
  },
  {
   "cell_type": "code",
   "execution_count": 25,
   "metadata": {},
   "outputs": [],
   "source": [
    "for i in train_x:\n",
    "    new_train_x.append(i.reshape(-1))\n",
    "    \n",
    "for i in train_y:\n",
    "    new_train_y.append(i.reshape(-1))\n",
    "new_train_x = np.array(new_train_x)\n",
    "new_train_y = np.array(new_train_y)"
   ]
  },
  {
   "cell_type": "code",
   "execution_count": 26,
   "metadata": {},
   "outputs": [
    {
     "name": "stderr",
     "output_type": "stream",
     "text": [
      "Using TensorFlow backend.\n"
     ]
    }
   ],
   "source": [
    "from keras.models import Sequential\n",
    "from keras.layers import Dense,Activation"
   ]
  },
  {
   "cell_type": "code",
   "execution_count": 27,
   "metadata": {},
   "outputs": [],
   "source": [
    "model = Sequential()"
   ]
  },
  {
   "cell_type": "code",
   "execution_count": 28,
   "metadata": {},
   "outputs": [
    {
     "name": "stderr",
     "output_type": "stream",
     "text": [
      "C:\\ProgramData\\Anaconda3\\lib\\site-packages\\ipykernel_launcher.py:1: UserWarning: Update your `Dense` call to the Keras 2 API: `Dense(100, activation=\"tanh\", input_dim=7, kernel_initializer=\"uniform\")`\n",
      "  \"\"\"Entry point for launching an IPython kernel.\n",
      "C:\\ProgramData\\Anaconda3\\lib\\site-packages\\ipykernel_launcher.py:2: UserWarning: Update your `Dense` call to the Keras 2 API: `Dense(50, activation=\"tanh\", kernel_initializer=\"uniform\")`\n",
      "  \n",
      "C:\\ProgramData\\Anaconda3\\lib\\site-packages\\ipykernel_launcher.py:3: UserWarning: Update your `Dense` call to the Keras 2 API: `Dense(25, activation=\"tanh\", kernel_initializer=\"uniform\")`\n",
      "  This is separate from the ipykernel package so we can avoid doing imports until\n"
     ]
    }
   ],
   "source": [
    "model.add(Dense(100 , activation=\"tanh\" , init=\"uniform\" , input_dim=7))\n",
    "model.add(Dense(50 , activation=\"tanh\" , init=\"uniform\"))\n",
    "model.add(Dense(25 , activation=\"tanh\" , init=\"uniform\"))\n",
    "model.add(Dense(1 , activation=\"linear\"))\n",
    "model.compile(\"Adam\", loss=\"mean_squared_error\")\n",
    "\n"
   ]
  },
  {
   "cell_type": "code",
   "execution_count": 29,
   "metadata": {},
   "outputs": [
    {
     "data": {
      "text/plain": [
       "<keras.callbacks.History at 0x25c1f789f98>"
      ]
     },
     "execution_count": 29,
     "metadata": {},
     "output_type": "execute_result"
    }
   ],
   "source": [
    "model.fit(new_train_x , new_train_y , batch_size=20, epochs=400,verbose=0)"
   ]
  },
  {
   "cell_type": "code",
   "execution_count": 30,
   "metadata": {},
   "outputs": [],
   "source": [
    "new_test_x = []\n",
    "new_test_y = []\n",
    "for i in test_x:\n",
    "    new_test_x.append(i.reshape(-1))\n",
    "    \n",
    "for i in test_y:\n",
    "    new_test_y.append(i.reshape(-1))\n",
    "new_test_x = np.array(new_test_x)\n",
    "new_test_y = np.array(new_test_y)"
   ]
  },
  {
   "cell_type": "code",
   "execution_count": 31,
   "metadata": {},
   "outputs": [],
   "source": [
    "predict_error = model.predict(new_test_x)"
   ]
  },
  {
   "cell_type": "code",
   "execution_count": 32,
   "metadata": {},
   "outputs": [
    {
     "data": {
      "text/plain": [
       "[<matplotlib.lines.Line2D at 0x25c20d1e5c0>]"
      ]
     },
     "execution_count": 32,
     "metadata": {},
     "output_type": "execute_result"
    },
    {
     "data": {
      "image/png": "[encoded data removed]",
      "text/plain": [
       "<Figure size 432x288 with 1 Axes>"
      ]
     },
     "metadata": {
      "needs_background": "light"
     },
     "output_type": "display_data"
    }
   ],
   "source": [
    "plt.plot(test_y)\n",
    "plt.plot(predict_error, color=\"r\")"
   ]
  },
  {
   "cell_type": "code",
   "execution_count": 33,
   "metadata": {},
   "outputs": [],
   "source": [
    "arima_ann_predict = prediction_list[7:]+predict_error"
   ]
  },
  {
   "cell_type": "code",
   "execution_count": 34,
   "metadata": {},
   "outputs": [
    {
     "data": {
      "text/plain": [
       "[<matplotlib.lines.Line2D at 0x25c20d52668>]"
      ]
     },
     "execution_count": 34,
     "metadata": {},
     "output_type": "execute_result"
    },
    {
     "data": {
      "image/png": "[encoded data removed]",
      "text/plain": [
       "<Figure size 432x288 with 1 Axes>"
      ]
     },
     "metadata": {
      "needs_background": "light"
     },
     "output_type": "display_data"
    }
   ],
   "source": [
    "plt.plot(arima_ann_predict,color='r')\n",
    "plt.plot(test[7:],color='g')\n"
   ]
  },
  {
   "cell_type": "code",
   "execution_count": null,
   "metadata": {},
   "outputs": [],
   "source": []
  },
  {
   "cell_type": "code",
   "execution_count": null,
   "metadata": {},
   "outputs": [],
   "source": []
  }
 ],
 "metadata": {
  "kernelspec": {
   "display_name": "Python 3",
   "language": "python",
   "name": "python3"
  },
  "language_info": {
   "codemirror_mode": {
    "name": "ipython",
    "version": 3
   },
   "file_extension": ".py",
   "mimetype": "text/x-python",
   "name": "python",
   "nbconvert_exporter": "python",
   "pygments_lexer": "ipython3",
   "version": "3.6.7"
  }
 },
 "nbformat": 4,
 "nbformat_minor": 2
}
